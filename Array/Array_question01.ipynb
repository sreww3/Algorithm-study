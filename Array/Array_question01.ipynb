{
 "cells": [
  {
   "cell_type": "markdown",
   "id": "dc70149a",
   "metadata": {},
   "source": [
    "# 배열\n",
    "\n",
    "## 1) 두수의 합"
   ]
  },
  {
   "cell_type": "markdown",
   "id": "f0845906",
   "metadata": {},
   "source": [
    "### 1. 브루트 포스로 계산\n",
    "- 브루트 포스란 모든 자료를 탐색하는 완전 탐색 구조이다"
   ]
  },
  {
   "cell_type": "code",
   "execution_count": 4,
   "id": "6b8cdf6a",
   "metadata": {},
   "outputs": [],
   "source": [
    "nums = [2,2,3,-2]\n",
    "target = 4"
   ]
  },
  {
   "cell_type": "code",
   "execution_count": 2,
   "id": "b251f536",
   "metadata": {},
   "outputs": [],
   "source": [
    "def two_sum(nums,target):\n",
    "    length = len(nums)\n",
    "    for i in range(length):\n",
    "        for j in range(i+1,length):\n",
    "            result = nums[i] + nums[j]\n",
    "            if result == target:\n",
    "                return [i,j]"
   ]
  },
  {
   "cell_type": "code",
   "execution_count": 3,
   "id": "62e345f6",
   "metadata": {},
   "outputs": [
    {
     "data": {
      "text/plain": [
       "[0, 1]"
      ]
     },
     "execution_count": 3,
     "metadata": {},
     "output_type": "execute_result"
    }
   ],
   "source": [
    "two_sum(nums,target)"
   ]
  },
  {
   "cell_type": "markdown",
   "id": "855b2b64",
   "metadata": {},
   "source": [
    "### 2. in을 이용한 탐색\n",
    "- target - i 방식의 탐색"
   ]
  },
  {
   "cell_type": "code",
   "execution_count": 4,
   "id": "40aba0d0",
   "metadata": {},
   "outputs": [],
   "source": [
    "nums = [3,5,2,7]\n",
    "target = 7"
   ]
  },
  {
   "cell_type": "code",
   "execution_count": 19,
   "id": "1c39b14a",
   "metadata": {},
   "outputs": [],
   "source": [
    "def two_sum(nums, target):\n",
    "    length = len(nums)\n",
    "    for i in range(length):\n",
    "        new_arr = nums[i+1:]\n",
    "        n = target - nums[i]\n",
    "        if n in new_arr:\n",
    "            return [i,nums[i+1:].index(n)+(i+1)]"
   ]
  },
  {
   "cell_type": "code",
   "execution_count": 20,
   "id": "4f4b8536",
   "metadata": {},
   "outputs": [
    {
     "data": {
      "text/plain": [
       "[0, 1]"
      ]
     },
     "execution_count": 20,
     "metadata": {},
     "output_type": "execute_result"
    }
   ],
   "source": [
    "two_sum(nums,target)"
   ]
  },
  {
   "cell_type": "markdown",
   "id": "82116ead",
   "metadata": {},
   "source": [
    "### 3. 첫번째 수를 뺀 결과 키 조회\n",
    "- 딕셔너리를 이용한 조회"
   ]
  },
  {
   "cell_type": "code",
   "execution_count": 12,
   "id": "0dcec528",
   "metadata": {},
   "outputs": [],
   "source": [
    "def two_sum(nums, target):\n",
    "    dic = {}\n",
    "    for i,j in enumerate(nums):\n",
    "        dic[j] = i \n",
    "        \n",
    "    for i, j in enumerate(nums):\n",
    "        if target - j in nums[i+1:]:\n",
    "            return [i,dic[target - j]]"
   ]
  },
  {
   "cell_type": "code",
   "execution_count": 4,
   "id": "f06f8fb0",
   "metadata": {},
   "outputs": [],
   "source": [
    "def two_sum(nums, target):\n",
    "    dic = {}\n",
    "    for i in range(len(nums)):\n",
    "        dic[nums[i]] = i \n",
    "        \n",
    "    for i in range(len(nums)):\n",
    "        if target - nums[i] in nums[i+1:]:\n",
    "            return [i,dic[target - nums[i]]]"
   ]
  },
  {
   "cell_type": "code",
   "execution_count": 5,
   "id": "30672377",
   "metadata": {},
   "outputs": [
    {
     "data": {
      "text/plain": [
       "[0, 1]"
      ]
     },
     "execution_count": 5,
     "metadata": {},
     "output_type": "execute_result"
    }
   ],
   "source": [
    "two_sum(nums,target)"
   ]
  },
  {
   "cell_type": "markdown",
   "id": "c55729f9",
   "metadata": {},
   "source": [
    "### 4. 조회 구조 개선\n",
    "- for loop 하나로"
   ]
  },
  {
   "cell_type": "code",
   "execution_count": 9,
   "id": "46a8cd1a",
   "metadata": {},
   "outputs": [],
   "source": [
    "def two_sum(nums, target):\n",
    "    dic = {}\n",
    "    for i, j in enumerate(nums):\n",
    "        dic[j] = i\n",
    "        if target - j in dic:\n",
    "            return [dic[target-j],i]"
   ]
  },
  {
   "cell_type": "code",
   "execution_count": 10,
   "id": "049064bf",
   "metadata": {},
   "outputs": [
    {
     "data": {
      "text/plain": [
       "[1, 2]"
      ]
     },
     "execution_count": 10,
     "metadata": {},
     "output_type": "execute_result"
    }
   ],
   "source": [
    "two_sum(nums,target)"
   ]
  },
  {
   "cell_type": "markdown",
   "id": "61a697f2",
   "metadata": {},
   "source": [
    "#### 5. 투 포인터 이동\n",
    "- 두 합이 결과값보다 작으면 우측으로 이동"
   ]
  },
  {
   "cell_type": "code",
   "execution_count": 11,
   "id": "221659b8",
   "metadata": {},
   "outputs": [],
   "source": [
    "def two_sum(nums, target):\n",
    "    left, right = 0, len(nums)-1\n",
    "    sums = nums[left]+nums[right]\n",
    "    while sums != target:\n",
    "        if sums < target:\n",
    "            left += 1\n",
    "            sums = nums[left]+nums[right]\n",
    "        else:\n",
    "            right -= 1\n",
    "            sums = nums[left]+nums[right]\n",
    "    return [left,right]"
   ]
  },
  {
   "cell_type": "code",
   "execution_count": 12,
   "id": "3adc1a64",
   "metadata": {},
   "outputs": [
    {
     "data": {
      "text/plain": [
       "[1, 2]"
      ]
     },
     "execution_count": 12,
     "metadata": {},
     "output_type": "execute_result"
    }
   ],
   "source": [
    "two_sum(nums,target)"
   ]
  }
 ],
 "metadata": {
  "kernelspec": {
   "display_name": "Python 3",
   "language": "python",
   "name": "python3"
  },
  "language_info": {
   "codemirror_mode": {
    "name": "ipython",
    "version": 3
   },
   "file_extension": ".py",
   "mimetype": "text/x-python",
   "name": "python",
   "nbconvert_exporter": "python",
   "pygments_lexer": "ipython3",
   "version": "3.8.8"
  }
 },
 "nbformat": 4,
 "nbformat_minor": 5
}
