{
 "cells": [
  {
   "cell_type": "markdown",
   "id": "dc70149a",
   "metadata": {},
   "source": [
    "# 배열\n",
    "\n",
    "## 1) 두수의 합"
   ]
  },
  {
   "cell_type": "markdown",
   "id": "f0845906",
   "metadata": {},
   "source": [
    "### 1. 브루트 포스로 계산\n",
    "- 브루트 포스란 모든 자료를 탐색하는 완전 탐색 구조이다"
   ]
  },
  {
   "cell_type": "code",
   "execution_count": 1,
   "id": "6b8cdf6a",
   "metadata": {},
   "outputs": [],
   "source": [
    "nums = [2,7,11,15]\n",
    "target = 9"
   ]
  },
  {
   "cell_type": "code",
   "execution_count": 4,
   "id": "b251f536",
   "metadata": {},
   "outputs": [],
   "source": [
    "def two_sum(nums,target):\n",
    "    length = len(nums)\n",
    "    for i in range(length):\n",
    "        for j in range(i+1,length):\n",
    "            result = nums[i] + nums[j]\n",
    "            if result == target:\n",
    "                return [i,j]"
   ]
  },
  {
   "cell_type": "code",
   "execution_count": null,
   "id": "62e345f6",
   "metadata": {},
   "outputs": [],
   "source": [
    "two_sum(nums,target)"
   ]
  },
  {
   "cell_type": "markdown",
   "id": "855b2b64",
   "metadata": {},
   "source": [
    "### 2. in을 이용한 탐색\n",
    "- target - i 방식의 탐색"
   ]
  },
  {
   "cell_type": "code",
   "execution_count": 9,
   "id": "40aba0d0",
   "metadata": {},
   "outputs": [],
   "source": [
    "nums = [3,5,2,7]\n",
    "target = 7"
   ]
  },
  {
   "cell_type": "code",
   "execution_count": 10,
   "id": "1c39b14a",
   "metadata": {},
   "outputs": [],
   "source": [
    "def two_sum(nums, target):\n",
    "    length = len(nums)\n",
    "    for i in range(length):\n",
    "        new_arr = nums[:i]+nums[i+1:]\n",
    "        n = target - nums[i]\n",
    "        if n in new_arr:\n",
    "            return [i,nums.index(n)]"
   ]
  },
  {
   "cell_type": "code",
   "execution_count": 11,
   "id": "4f4b8536",
   "metadata": {},
   "outputs": [
    {
     "data": {
      "text/plain": [
       "[1, 2]"
      ]
     },
     "execution_count": 11,
     "metadata": {},
     "output_type": "execute_result"
    }
   ],
   "source": [
    "two_sum(nums,target)"
   ]
  }
 ],
 "metadata": {
  "kernelspec": {
   "display_name": "Python 3",
   "language": "python",
   "name": "python3"
  },
  "language_info": {
   "codemirror_mode": {
    "name": "ipython",
    "version": 3
   },
   "file_extension": ".py",
   "mimetype": "text/x-python",
   "name": "python",
   "nbconvert_exporter": "python",
   "pygments_lexer": "ipython3",
   "version": "3.8.8"
  }
 },
 "nbformat": 4,
 "nbformat_minor": 5
}
