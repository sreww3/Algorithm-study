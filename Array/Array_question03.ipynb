{
 "cells": [
  {
   "cell_type": "markdown",
   "id": "55fa65ab",
   "metadata": {},
   "source": [
    "# 배열\n",
    "## 세 수의 합\n",
    "- 세수의 합이 0"
   ]
  },
  {
   "cell_type": "code",
   "execution_count": 1,
   "id": "1ab0a07c",
   "metadata": {},
   "outputs": [],
   "source": [
    "inputs = [-2,0,1,1,2]"
   ]
  },
  {
   "cell_type": "markdown",
   "id": "087d45f6",
   "metadata": {},
   "source": [
    "### 1. 브루트 포스"
   ]
  },
  {
   "cell_type": "code",
   "execution_count": 2,
   "id": "772c4db8",
   "metadata": {},
   "outputs": [],
   "source": [
    "def threesum(nums):\n",
    "    answer = []\n",
    "    for i in range(len(nums)-2):\n",
    "        for j in range(i+1,len(nums)-1):\n",
    "            for k in range(j+1,len(nums)):\n",
    "                result = nums[i]+nums[j]+nums[k]\n",
    "                lst = [nums[i],nums[j],nums[k]]\n",
    "                if result == 0 and sorted(lst) not in answer:\n",
    "                    answer.append(lst)\n",
    "    return answer"
   ]
  },
  {
   "cell_type": "code",
   "execution_count": 3,
   "id": "b71d8ee0",
   "metadata": {},
   "outputs": [
    {
     "data": {
      "text/plain": [
       "[[-2, 0, 2], [-2, 1, 1]]"
      ]
     },
     "execution_count": 3,
     "metadata": {},
     "output_type": "execute_result"
    }
   ],
   "source": [
    "threesum(inputs)"
   ]
  },
  {
   "cell_type": "markdown",
   "id": "888de735",
   "metadata": {},
   "source": [
    "### 2. 투 포인터로 합 계산"
   ]
  },
  {
   "cell_type": "code",
   "execution_count": 4,
   "id": "58f29492",
   "metadata": {},
   "outputs": [],
   "source": [
    "def threesum(nums):\n",
    "    answer = []\n",
    "    nums = sorted(nums)\n",
    "    for i in range(len(nums)-2):\n",
    "        if i>0 and nums[i] == nums[i-1]:\n",
    "            continue\n",
    "        left = i+1\n",
    "        right = len(nums)-1\n",
    "        while left < right:\n",
    "            lst = [nums[i],nums[left],nums[right]]\n",
    "            result = sum(lst)\n",
    "            if result < 0:\n",
    "                left += 1\n",
    "            elif result >0:\n",
    "                right -= 1\n",
    "            else:\n",
    "                answer.append(lst)\n",
    "                while left<right and nums[left] == nums[left+1]:\n",
    "                    left += 1\n",
    "                while left<right and nums[right] == nums[right-1]:\n",
    "                    right -=1\n",
    "                left += 1\n",
    "                right -= 1\n",
    "    return answer"
   ]
  },
  {
   "cell_type": "code",
   "execution_count": 5,
   "id": "1d7ea54b",
   "metadata": {},
   "outputs": [
    {
     "data": {
      "text/plain": [
       "[[-2, 0, 2], [-2, 1, 1]]"
      ]
     },
     "execution_count": 5,
     "metadata": {},
     "output_type": "execute_result"
    }
   ],
   "source": [
    "threesum(inputs)"
   ]
  },
  {
   "cell_type": "code",
   "execution_count": null,
   "id": "37eb6e17",
   "metadata": {},
   "outputs": [],
   "source": []
  }
 ],
 "metadata": {
  "kernelspec": {
   "display_name": "Python 3",
   "language": "python",
   "name": "python3"
  },
  "language_info": {
   "codemirror_mode": {
    "name": "ipython",
    "version": 3
   },
   "file_extension": ".py",
   "mimetype": "text/x-python",
   "name": "python",
   "nbconvert_exporter": "python",
   "pygments_lexer": "ipython3",
   "version": "3.8.8"
  }
 },
 "nbformat": 4,
 "nbformat_minor": 5
}