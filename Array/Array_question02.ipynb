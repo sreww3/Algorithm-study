{
 "cells": [
  {
   "cell_type": "markdown",
   "id": "36299c3f",
   "metadata": {},
   "source": [
    "# 배열\n",
    "\n",
    "## 2) 빗물 트래핑"
   ]
  },
  {
   "cell_type": "markdown",
   "id": "ad365c6f",
   "metadata": {},
   "source": [
    "### 1. 투 포인터를 최대로 이동"
   ]
  },
  {
   "cell_type": "code",
   "execution_count": 1,
   "id": "e84b029a",
   "metadata": {},
   "outputs": [],
   "source": [
    "height = [0,1,0,2,1,0,1,3,2,1,2,1]"
   ]
  },
  {
   "cell_type": "code",
   "execution_count": 2,
   "id": "1402c13e",
   "metadata": {},
   "outputs": [],
   "source": [
    "def store(height):\n",
    "    left , right = 0, len(height)-1\n",
    "    left_max, right_max = height[left],height[right]\n",
    "    amount = 0\n",
    "    while left < right:\n",
    "        left_max, right_max = (max(height[left],left_max),\n",
    "                               max(height[right],right_max))\n",
    "        if left_max <= right_max:\n",
    "            amount += left_max - height[left]\n",
    "            left += 1\n",
    "        else:\n",
    "            amount += right_max - height[right]\n",
    "            right -= 1\n",
    "    return amount"
   ]
  },
  {
   "cell_type": "code",
   "execution_count": 3,
   "id": "0f17b93a",
   "metadata": {},
   "outputs": [
    {
     "data": {
      "text/plain": [
       "6"
      ]
     },
     "execution_count": 3,
     "metadata": {},
     "output_type": "execute_result"
    }
   ],
   "source": [
    "store(height)"
   ]
  },
  {
   "cell_type": "markdown",
   "id": "5dbf9657",
   "metadata": {},
   "source": [
    "### 3. 스택 쌓기"
   ]
  },
  {
   "cell_type": "code",
   "execution_count": 4,
   "id": "a2e3056b",
   "metadata": {},
   "outputs": [],
   "source": [
    "def store(height):\n",
    "    stack = []\n",
    "    volume = 0\n",
    "    for i in range(len(height)):\n",
    "        while stack and height[i] > height[stack[-1]]:\n",
    "            top = stack.pop()\n",
    "            if not len(stack):\n",
    "                break\n",
    "            distance = i - stack[-1] -1\n",
    "            waters = min(height[i], height[stack[-1]])-height[top]\n",
    "            volume += distance * waters\n",
    "        stack.append(i)\n",
    "    return volume\n",
    "            \n",
    "            "
   ]
  },
  {
   "cell_type": "code",
   "execution_count": 5,
   "id": "764cedd0",
   "metadata": {},
   "outputs": [
    {
     "data": {
      "text/plain": [
       "6"
      ]
     },
     "execution_count": 5,
     "metadata": {},
     "output_type": "execute_result"
    }
   ],
   "source": [
    "store(height)"
   ]
  },
  {
   "cell_type": "code",
   "execution_count": 6,
   "id": "82d4fcbb",
   "metadata": {},
   "outputs": [
    {
     "name": "stdout",
     "output_type": "stream",
     "text": [
      "1\n"
     ]
    }
   ],
   "source": [
    "stack = [1]\n",
    "if stack:\n",
    "    print(1)"
   ]
  },
  {
   "cell_type": "code",
   "execution_count": null,
   "id": "708c52e9",
   "metadata": {},
   "outputs": [],
   "source": []
  }
 ],
 "metadata": {
  "kernelspec": {
   "display_name": "Python 3",
   "language": "python",
   "name": "python3"
  },
  "language_info": {
   "codemirror_mode": {
    "name": "ipython",
    "version": 3
   },
   "file_extension": ".py",
   "mimetype": "text/x-python",
   "name": "python",
   "nbconvert_exporter": "python",
   "pygments_lexer": "ipython3",
   "version": "3.8.8"
  }
 },
 "nbformat": 4,
 "nbformat_minor": 5
}
