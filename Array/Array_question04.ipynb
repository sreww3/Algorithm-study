{
 "cells": [
  {
   "cell_type": "markdown",
   "source": [
    "# 배열\n",
    "## 주식을 사고팔기 가장 좋은 시점"
   ],
   "metadata": {
    "collapsed": false
   }
  },
  {
   "cell_type": "markdown",
   "source": [
    "### 저점과 현재 값과의 차이계산"
   ],
   "metadata": {
    "collapsed": false
   }
  },
  {
   "cell_type": "code",
   "execution_count": 12,
   "outputs": [],
   "source": [
    "def max_profit(prices):\n",
    "    # minimum price\n",
    "    min_price = float('inf')\n",
    "    # max_profit\n",
    "    profit = 0\n",
    "    for i in prices:\n",
    "        # Current profit by using indexes\n",
    "        min_price = min(min_price,i)\n",
    "        # find max profit\n",
    "        profit = max(profit,i - min_price)\n",
    "\n",
    "    return profit"
   ],
   "metadata": {
    "collapsed": false,
    "pycharm": {
     "name": "#%%\n"
    }
   }
  },
  {
   "cell_type": "code",
   "execution_count": 13,
   "outputs": [
    {
     "data": {
      "text/plain": "True"
     },
     "execution_count": 13,
     "metadata": {},
     "output_type": "execute_result"
    }
   ],
   "source": [
    "test = [7,1,5,3,6,4]\n",
    "result = 5\n",
    "max_profit(test) == result"
   ],
   "metadata": {
    "collapsed": false,
    "pycharm": {
     "name": "#%%\n"
    }
   }
  }
 ],
 "metadata": {
  "kernelspec": {
   "display_name": "Python 3",
   "language": "python",
   "name": "python3"
  },
  "language_info": {
   "codemirror_mode": {
    "name": "ipython",
    "version": 3
   },
   "file_extension": ".py",
   "mimetype": "text/x-python",
   "name": "python",
   "nbconvert_exporter": "python",
   "pygments_lexer": "ipython3",
   "version": "3.8.8"
  }
 },
 "nbformat": 4,
 "nbformat_minor": 5
}